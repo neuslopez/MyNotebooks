{
 "cells": [
  {
   "cell_type": "markdown",
   "metadata": {},
   "source": [
    "# Read PMaps\n"
   ]
  },
  {
   "cell_type": "code",
   "execution_count": 1,
   "metadata": {
    "collapsed": true
   },
   "outputs": [],
   "source": [
    "import datetime"
   ]
  },
  {
   "cell_type": "code",
   "execution_count": 2,
   "metadata": {
    "collapsed": true
   },
   "outputs": [],
   "source": [
    "from __future__ import print_function\n",
    "import sys\n",
    "import os\n",
    "from glob import glob\n",
    "from time import time"
   ]
  },
  {
   "cell_type": "code",
   "execution_count": 3,
   "metadata": {
    "collapsed": false
   },
   "outputs": [],
   "source": [
    "%matplotlib inline\n",
    "%load_ext autoreload\n",
    "%autoreload 2\n",
    "import matplotlib.pyplot as plt\n",
    "import pandas as pd\n",
    "import tables as tb\n",
    "import numpy as np\n",
    "import math"
   ]
  },
  {
   "cell_type": "code",
   "execution_count": 4,
   "metadata": {
    "collapsed": true
   },
   "outputs": [],
   "source": [
    "from invisible_cities.database import load_db\n",
    "from invisible_cities.core.system_of_units_c import SystemOfUnits\n",
    "import invisible_cities.sierpe.blr as blr\n",
    "import invisible_cities.core.mpl_functions as mpl\n",
    "import invisible_cities.core.wfm_functions as wfm\n",
    "import invisible_cities.core.tbl_functions as tbl\n",
    "import invisible_cities.core.peak_functions_c as cpf\n",
    "import invisible_cities.core.pmaps_functions as pf\n",
    "import invisible_cities.core.sensor_functions as sf\n",
    "from invisible_cities.core.core_functions import define_window"
   ]
  },
  {
   "cell_type": "code",
   "execution_count": 5,
   "metadata": {
    "collapsed": true
   },
   "outputs": [],
   "source": [
    "import pylab as pyl"
   ]
  },
  {
   "cell_type": "markdown",
   "metadata": {},
   "source": [
    "### Access to database and define units"
   ]
  },
  {
   "cell_type": "code",
   "execution_count": 6,
   "metadata": {
    "collapsed": true
   },
   "outputs": [],
   "source": [
    "DataPMT = load_db.DataPMT()\n",
    "units = SystemOfUnits()\n",
    "adc_to_pes = abs(DataPMT.adc_to_pes.values)\n",
    "DataSiPM = load_db.DataSiPM()\n",
    "adc_to_pes_sipm = DataSiPM.adc_to_pes.values\n",
    "xs = DataSiPM.X.values\n",
    "ys = DataSiPM.Y.values"
   ]
  },
  {
   "cell_type": "code",
   "execution_count": 7,
   "metadata": {
    "collapsed": false
   },
   "outputs": [],
   "source": [
    "#PMAP_file = os.environ['IC_DATA']  + '/pmaps_dst_NEXT_v0_08_06_Kr_ACTIVE_86_0_7bar_MCRD_10000.root.h5'\n",
    "PMAP_file = os.environ['IC_DATA']+'/pmaps_JM/pmaps_NEXT_v0_08_09_Kr_ACTIVE_0_0_7bar__10000.root.h5'\n",
    "#PMAP_file = os.environ['IC_DATA']+ '/pmaps_NEXT_v0_08_09_Kr_ACTIVE_0_0_7bar__10000.root.h5'"
   ]
  },
  {
   "cell_type": "code",
   "execution_count": 8,
   "metadata": {
    "collapsed": false
   },
   "outputs": [
    {
     "name": "stdout",
     "output_type": "stream",
     "text": [
      "/Users/neus/InvCities/data/pmaps_JM/pmaps_NEXT_v0_08_09_Kr_ACTIVE_0_0_7bar__10000.root.h5\n"
     ]
    }
   ],
   "source": [
    "print(PMAP_file)"
   ]
  },
  {
   "cell_type": "code",
   "execution_count": 9,
   "metadata": {
    "collapsed": false
   },
   "outputs": [],
   "source": [
    "t = tb.open_file(PMAP_file,mode='r')"
   ]
  },
  {
   "cell_type": "code",
   "execution_count": 10,
   "metadata": {
    "collapsed": false
   },
   "outputs": [
    {
     "name": "stdout",
     "output_type": "stream",
     "text": [
      "/Users/neus/InvCities/data/pmaps_JM/pmaps_NEXT_v0_08_09_Kr_ACTIVE_0_0_7bar__10000.root.h5 (File) ''\n",
      "Last modif.: 'Mon Feb 20 14:52:00 2017'\n",
      "Object Tree: \n",
      "/ (RootGroup) ''\n",
      "/PMAPS (Group) ''\n",
      "/PMAPS/S1 (Table(51537,), shuffle, zlib(4)) 'S1 Table'\n",
      "/PMAPS/S2 (Table(90642,), shuffle, zlib(4)) 'S2 Table'\n",
      "/PMAPS/S2Si (Table(45075,), shuffle, zlib(4)) 'S2Si Table'\n",
      "\n"
     ]
    }
   ],
   "source": [
    "print(t)"
   ]
  },
  {
   "cell_type": "code",
   "execution_count": 11,
   "metadata": {
    "collapsed": false
   },
   "outputs": [],
   "source": [
    "S2Si_ = t.root.PMAPS.S2Si"
   ]
  },
  {
   "cell_type": "markdown",
   "metadata": {},
   "source": [
    "## pyTable"
   ]
  },
  {
   "cell_type": "code",
   "execution_count": 12,
   "metadata": {
    "collapsed": false
   },
   "outputs": [
    {
     "data": {
      "text/plain": [
       "/PMAPS/S2Si (Table(45075,), shuffle, zlib(4)) 'S2Si Table'\n",
       "  description := {\n",
       "  \"event\": Int32Col(shape=(), dflt=0, pos=0),\n",
       "  \"evtDaq\": Int32Col(shape=(), dflt=0, pos=1),\n",
       "  \"peak\": UInt8Col(shape=(), dflt=0, pos=2),\n",
       "  \"nsipm\": Int16Col(shape=(), dflt=0, pos=3),\n",
       "  \"nsample\": Int16Col(shape=(), dflt=0, pos=4),\n",
       "  \"ene\": Float32Col(shape=(), dflt=0.0, pos=5)}\n",
       "  byteorder := 'little'\n",
       "  chunkshape := (3855,)\n",
       "  autoindex := True\n",
       "  colindexes := {\n",
       "    \"event\": Index(6, medium, shuffle, zlib(1)).is_csi=False}"
      ]
     },
     "execution_count": 12,
     "metadata": {},
     "output_type": "execute_result"
    }
   ],
   "source": [
    "S2Si_"
   ]
  },
  {
   "cell_type": "code",
   "execution_count": 13,
   "metadata": {
    "collapsed": false
   },
   "outputs": [
    {
     "data": {
      "text/plain": [
       "array([(2, 2, 0, 784, 1, 19.937114715576172),\n",
       "       (2, 2, 0, 784, 2, 36.92438507080078),\n",
       "       (2, 2, 0, 784, 3, 41.82916259765625),\n",
       "       (2, 2, 0, 784, 4, 21.731544494628906),\n",
       "       (3, 3, 0, 274, 2, 25.915727615356445),\n",
       "       (3, 3, 0, 274, 3, 21.248924255371094),\n",
       "       (3, 3, 0, 281, 1, 28.683107376098633),\n",
       "       (3, 3, 0, 281, 2, 40.70846939086914),\n",
       "       (3, 3, 0, 281, 3, 37.875267028808594),\n",
       "       (3, 3, 0, 282, 1, 35.865325927734375)], \n",
       "      dtype=[('event', '<i4'), ('evtDaq', '<i4'), ('peak', 'u1'), ('nsipm', '<i2'), ('nsample', '<i2'), ('ene', '<f4')])"
      ]
     },
     "execution_count": 13,
     "metadata": {},
     "output_type": "execute_result"
    }
   ],
   "source": [
    "S2Si_[0:10]"
   ]
  },
  {
   "cell_type": "code",
   "execution_count": 14,
   "metadata": {
    "collapsed": false
   },
   "outputs": [
    {
     "data": {
      "text/plain": [
       "45075"
      ]
     },
     "execution_count": 14,
     "metadata": {},
     "output_type": "execute_result"
    }
   ],
   "source": [
    "len(S2Si_.col('event'))"
   ]
  },
  {
   "cell_type": "markdown",
   "metadata": {},
   "source": [
    "### Select ev info and create a list of SiPMs with signal"
   ]
  },
  {
   "cell_type": "code",
   "execution_count": 15,
   "metadata": {
    "collapsed": false
   },
   "outputs": [
    {
     "name": "stdout",
     "output_type": "stream",
     "text": [
      "0\n",
      "event: 2, sipm = 784, nsample = 1, ene = 19.937114715576172\n",
      "1\n",
      "event: 2, sipm = 784, nsample = 2, ene = 36.92438507080078\n",
      "2\n",
      "event: 2, sipm = 784, nsample = 3, ene = 41.82916259765625\n",
      "3\n",
      "event: 2, sipm = 784, nsample = 4, ene = 21.731544494628906\n"
     ]
    }
   ],
   "source": [
    "sipm_l = []\n",
    "evSel = 2\n",
    "for i in range(len(S2Si_.col('event'))):\n",
    "    if(S2Si_.col('event')[i] == evSel+1):\n",
    "        break\n",
    "    print(i)\n",
    "    print('event: {0}, sipm = {1}, nsample = {2}, ene = {3}'.format(S2Si_.col('event')[i], S2Si_.col('nsipm')[i],S2Si_.col('nsample')[i] ,S2Si_.col('ene')[i]))\n",
    "    sipm_l.append(S2Si_.col('nsipm')[i])"
   ]
  },
  {
   "cell_type": "code",
   "execution_count": 16,
   "metadata": {
    "collapsed": false
   },
   "outputs": [
    {
     "name": "stdout",
     "output_type": "stream",
     "text": [
      "[784, 784, 784, 784]\n"
     ]
    }
   ],
   "source": [
    "print(sipm_l)"
   ]
  },
  {
   "cell_type": "code",
   "execution_count": 17,
   "metadata": {
    "collapsed": false
   },
   "outputs": [
    {
     "data": {
      "text/html": [
       "<div>\n",
       "<table border=\"1\" class=\"dataframe\">\n",
       "  <thead>\n",
       "    <tr style=\"text-align: right;\">\n",
       "      <th></th>\n",
       "      <th>event</th>\n",
       "      <th>evtDaq</th>\n",
       "      <th>peak</th>\n",
       "      <th>time</th>\n",
       "      <th>ene</th>\n",
       "    </tr>\n",
       "  </thead>\n",
       "  <tbody>\n",
       "    <tr>\n",
       "      <th>0</th>\n",
       "      <td>0</td>\n",
       "      <td>0</td>\n",
       "      <td>0</td>\n",
       "      <td>619586.250000</td>\n",
       "      <td>73.247719</td>\n",
       "    </tr>\n",
       "    <tr>\n",
       "      <th>1</th>\n",
       "      <td>0</td>\n",
       "      <td>0</td>\n",
       "      <td>0</td>\n",
       "      <td>620637.500000</td>\n",
       "      <td>146.347244</td>\n",
       "    </tr>\n",
       "    <tr>\n",
       "      <th>2</th>\n",
       "      <td>0</td>\n",
       "      <td>0</td>\n",
       "      <td>0</td>\n",
       "      <td>621637.500000</td>\n",
       "      <td>323.282196</td>\n",
       "    </tr>\n",
       "    <tr>\n",
       "      <th>3</th>\n",
       "      <td>0</td>\n",
       "      <td>0</td>\n",
       "      <td>0</td>\n",
       "      <td>622637.500000</td>\n",
       "      <td>625.912231</td>\n",
       "    </tr>\n",
       "    <tr>\n",
       "      <th>4</th>\n",
       "      <td>0</td>\n",
       "      <td>0</td>\n",
       "      <td>0</td>\n",
       "      <td>623637.500000</td>\n",
       "      <td>986.156494</td>\n",
       "    </tr>\n",
       "    <tr>\n",
       "      <th>5</th>\n",
       "      <td>0</td>\n",
       "      <td>0</td>\n",
       "      <td>0</td>\n",
       "      <td>624637.500000</td>\n",
       "      <td>1201.956421</td>\n",
       "    </tr>\n",
       "    <tr>\n",
       "      <th>6</th>\n",
       "      <td>0</td>\n",
       "      <td>0</td>\n",
       "      <td>0</td>\n",
       "      <td>625637.500000</td>\n",
       "      <td>1024.452881</td>\n",
       "    </tr>\n",
       "    <tr>\n",
       "      <th>7</th>\n",
       "      <td>0</td>\n",
       "      <td>0</td>\n",
       "      <td>0</td>\n",
       "      <td>626637.500000</td>\n",
       "      <td>820.801147</td>\n",
       "    </tr>\n",
       "    <tr>\n",
       "      <th>8</th>\n",
       "      <td>0</td>\n",
       "      <td>0</td>\n",
       "      <td>0</td>\n",
       "      <td>627637.500000</td>\n",
       "      <td>534.381592</td>\n",
       "    </tr>\n",
       "    <tr>\n",
       "      <th>9</th>\n",
       "      <td>0</td>\n",
       "      <td>0</td>\n",
       "      <td>0</td>\n",
       "      <td>628637.500000</td>\n",
       "      <td>319.071411</td>\n",
       "    </tr>\n",
       "    <tr>\n",
       "      <th>10</th>\n",
       "      <td>0</td>\n",
       "      <td>0</td>\n",
       "      <td>0</td>\n",
       "      <td>629637.500000</td>\n",
       "      <td>128.871811</td>\n",
       "    </tr>\n",
       "    <tr>\n",
       "      <th>11</th>\n",
       "      <td>0</td>\n",
       "      <td>0</td>\n",
       "      <td>0</td>\n",
       "      <td>630513.812500</td>\n",
       "      <td>44.897781</td>\n",
       "    </tr>\n",
       "    <tr>\n",
       "      <th>12</th>\n",
       "      <td>1</td>\n",
       "      <td>1</td>\n",
       "      <td>0</td>\n",
       "      <td>515877.500000</td>\n",
       "      <td>73.314644</td>\n",
       "    </tr>\n",
       "    <tr>\n",
       "      <th>13</th>\n",
       "      <td>1</td>\n",
       "      <td>1</td>\n",
       "      <td>0</td>\n",
       "      <td>516937.500000</td>\n",
       "      <td>199.431076</td>\n",
       "    </tr>\n",
       "    <tr>\n",
       "      <th>14</th>\n",
       "      <td>1</td>\n",
       "      <td>1</td>\n",
       "      <td>0</td>\n",
       "      <td>517937.500000</td>\n",
       "      <td>456.179993</td>\n",
       "    </tr>\n",
       "    <tr>\n",
       "      <th>15</th>\n",
       "      <td>1</td>\n",
       "      <td>1</td>\n",
       "      <td>0</td>\n",
       "      <td>518937.500000</td>\n",
       "      <td>852.198303</td>\n",
       "    </tr>\n",
       "    <tr>\n",
       "      <th>16</th>\n",
       "      <td>1</td>\n",
       "      <td>1</td>\n",
       "      <td>0</td>\n",
       "      <td>519937.500000</td>\n",
       "      <td>1207.032227</td>\n",
       "    </tr>\n",
       "    <tr>\n",
       "      <th>17</th>\n",
       "      <td>1</td>\n",
       "      <td>1</td>\n",
       "      <td>0</td>\n",
       "      <td>520937.500000</td>\n",
       "      <td>1393.123413</td>\n",
       "    </tr>\n",
       "    <tr>\n",
       "      <th>18</th>\n",
       "      <td>1</td>\n",
       "      <td>1</td>\n",
       "      <td>0</td>\n",
       "      <td>521937.500000</td>\n",
       "      <td>1135.875122</td>\n",
       "    </tr>\n",
       "    <tr>\n",
       "      <th>19</th>\n",
       "      <td>1</td>\n",
       "      <td>1</td>\n",
       "      <td>0</td>\n",
       "      <td>522937.500000</td>\n",
       "      <td>844.631592</td>\n",
       "    </tr>\n",
       "    <tr>\n",
       "      <th>20</th>\n",
       "      <td>1</td>\n",
       "      <td>1</td>\n",
       "      <td>0</td>\n",
       "      <td>523937.500000</td>\n",
       "      <td>420.065002</td>\n",
       "    </tr>\n",
       "    <tr>\n",
       "      <th>21</th>\n",
       "      <td>1</td>\n",
       "      <td>1</td>\n",
       "      <td>0</td>\n",
       "      <td>524937.500000</td>\n",
       "      <td>195.276108</td>\n",
       "    </tr>\n",
       "    <tr>\n",
       "      <th>22</th>\n",
       "      <td>1</td>\n",
       "      <td>1</td>\n",
       "      <td>0</td>\n",
       "      <td>526003.125000</td>\n",
       "      <td>72.792305</td>\n",
       "    </tr>\n",
       "    <tr>\n",
       "      <th>23</th>\n",
       "      <td>2</td>\n",
       "      <td>2</td>\n",
       "      <td>0</td>\n",
       "      <td>384020.000000</td>\n",
       "      <td>110.024155</td>\n",
       "    </tr>\n",
       "    <tr>\n",
       "      <th>24</th>\n",
       "      <td>2</td>\n",
       "      <td>2</td>\n",
       "      <td>0</td>\n",
       "      <td>385037.500000</td>\n",
       "      <td>350.303925</td>\n",
       "    </tr>\n",
       "    <tr>\n",
       "      <th>25</th>\n",
       "      <td>2</td>\n",
       "      <td>2</td>\n",
       "      <td>0</td>\n",
       "      <td>386037.500000</td>\n",
       "      <td>793.143494</td>\n",
       "    </tr>\n",
       "    <tr>\n",
       "      <th>26</th>\n",
       "      <td>2</td>\n",
       "      <td>2</td>\n",
       "      <td>0</td>\n",
       "      <td>387037.500000</td>\n",
       "      <td>1308.541992</td>\n",
       "    </tr>\n",
       "    <tr>\n",
       "      <th>27</th>\n",
       "      <td>2</td>\n",
       "      <td>2</td>\n",
       "      <td>0</td>\n",
       "      <td>388037.500000</td>\n",
       "      <td>1407.468994</td>\n",
       "    </tr>\n",
       "    <tr>\n",
       "      <th>28</th>\n",
       "      <td>2</td>\n",
       "      <td>2</td>\n",
       "      <td>0</td>\n",
       "      <td>389037.500000</td>\n",
       "      <td>1199.448853</td>\n",
       "    </tr>\n",
       "    <tr>\n",
       "      <th>29</th>\n",
       "      <td>2</td>\n",
       "      <td>2</td>\n",
       "      <td>0</td>\n",
       "      <td>390037.500000</td>\n",
       "      <td>746.993225</td>\n",
       "    </tr>\n",
       "    <tr>\n",
       "      <th>...</th>\n",
       "      <td>...</td>\n",
       "      <td>...</td>\n",
       "      <td>...</td>\n",
       "      <td>...</td>\n",
       "      <td>...</td>\n",
       "    </tr>\n",
       "    <tr>\n",
       "      <th>90612</th>\n",
       "      <td>9995</td>\n",
       "      <td>9995</td>\n",
       "      <td>0</td>\n",
       "      <td>228012.500000</td>\n",
       "      <td>1189.951782</td>\n",
       "    </tr>\n",
       "    <tr>\n",
       "      <th>90613</th>\n",
       "      <td>9995</td>\n",
       "      <td>9995</td>\n",
       "      <td>0</td>\n",
       "      <td>229012.500000</td>\n",
       "      <td>345.959351</td>\n",
       "    </tr>\n",
       "    <tr>\n",
       "      <th>90614</th>\n",
       "      <td>9995</td>\n",
       "      <td>9995</td>\n",
       "      <td>0</td>\n",
       "      <td>229801.468750</td>\n",
       "      <td>51.666897</td>\n",
       "    </tr>\n",
       "    <tr>\n",
       "      <th>90615</th>\n",
       "      <td>9996</td>\n",
       "      <td>9996</td>\n",
       "      <td>0</td>\n",
       "      <td>216626.875000</td>\n",
       "      <td>146.713715</td>\n",
       "    </tr>\n",
       "    <tr>\n",
       "      <th>90616</th>\n",
       "      <td>9996</td>\n",
       "      <td>9996</td>\n",
       "      <td>0</td>\n",
       "      <td>217637.500000</td>\n",
       "      <td>703.315552</td>\n",
       "    </tr>\n",
       "    <tr>\n",
       "      <th>90617</th>\n",
       "      <td>9996</td>\n",
       "      <td>9996</td>\n",
       "      <td>0</td>\n",
       "      <td>218637.500000</td>\n",
       "      <td>1517.154663</td>\n",
       "    </tr>\n",
       "    <tr>\n",
       "      <th>90618</th>\n",
       "      <td>9996</td>\n",
       "      <td>9996</td>\n",
       "      <td>0</td>\n",
       "      <td>219637.500000</td>\n",
       "      <td>1967.640625</td>\n",
       "    </tr>\n",
       "    <tr>\n",
       "      <th>90619</th>\n",
       "      <td>9996</td>\n",
       "      <td>9996</td>\n",
       "      <td>0</td>\n",
       "      <td>220637.500000</td>\n",
       "      <td>1281.433228</td>\n",
       "    </tr>\n",
       "    <tr>\n",
       "      <th>90620</th>\n",
       "      <td>9996</td>\n",
       "      <td>9996</td>\n",
       "      <td>0</td>\n",
       "      <td>221637.500000</td>\n",
       "      <td>344.220093</td>\n",
       "    </tr>\n",
       "    <tr>\n",
       "      <th>90621</th>\n",
       "      <td>9996</td>\n",
       "      <td>9996</td>\n",
       "      <td>0</td>\n",
       "      <td>222373.609375</td>\n",
       "      <td>31.198931</td>\n",
       "    </tr>\n",
       "    <tr>\n",
       "      <th>90622</th>\n",
       "      <td>9997</td>\n",
       "      <td>9997</td>\n",
       "      <td>0</td>\n",
       "      <td>416165.000000</td>\n",
       "      <td>100.214104</td>\n",
       "    </tr>\n",
       "    <tr>\n",
       "      <th>90623</th>\n",
       "      <td>9997</td>\n",
       "      <td>9997</td>\n",
       "      <td>0</td>\n",
       "      <td>417187.500000</td>\n",
       "      <td>232.884094</td>\n",
       "    </tr>\n",
       "    <tr>\n",
       "      <th>90624</th>\n",
       "      <td>9997</td>\n",
       "      <td>9997</td>\n",
       "      <td>0</td>\n",
       "      <td>418187.500000</td>\n",
       "      <td>698.454102</td>\n",
       "    </tr>\n",
       "    <tr>\n",
       "      <th>90625</th>\n",
       "      <td>9997</td>\n",
       "      <td>9997</td>\n",
       "      <td>0</td>\n",
       "      <td>419187.500000</td>\n",
       "      <td>1156.093994</td>\n",
       "    </tr>\n",
       "    <tr>\n",
       "      <th>90626</th>\n",
       "      <td>9997</td>\n",
       "      <td>9997</td>\n",
       "      <td>0</td>\n",
       "      <td>420187.500000</td>\n",
       "      <td>1554.464478</td>\n",
       "    </tr>\n",
       "    <tr>\n",
       "      <th>90627</th>\n",
       "      <td>9997</td>\n",
       "      <td>9997</td>\n",
       "      <td>0</td>\n",
       "      <td>421187.500000</td>\n",
       "      <td>1429.837402</td>\n",
       "    </tr>\n",
       "    <tr>\n",
       "      <th>90628</th>\n",
       "      <td>9997</td>\n",
       "      <td>9997</td>\n",
       "      <td>0</td>\n",
       "      <td>422187.500000</td>\n",
       "      <td>966.789856</td>\n",
       "    </tr>\n",
       "    <tr>\n",
       "      <th>90629</th>\n",
       "      <td>9997</td>\n",
       "      <td>9997</td>\n",
       "      <td>0</td>\n",
       "      <td>423187.500000</td>\n",
       "      <td>528.738892</td>\n",
       "    </tr>\n",
       "    <tr>\n",
       "      <th>90630</th>\n",
       "      <td>9997</td>\n",
       "      <td>9997</td>\n",
       "      <td>0</td>\n",
       "      <td>424187.500000</td>\n",
       "      <td>175.364822</td>\n",
       "    </tr>\n",
       "    <tr>\n",
       "      <th>90631</th>\n",
       "      <td>9997</td>\n",
       "      <td>9997</td>\n",
       "      <td>0</td>\n",
       "      <td>425160.843750</td>\n",
       "      <td>48.034355</td>\n",
       "    </tr>\n",
       "    <tr>\n",
       "      <th>90632</th>\n",
       "      <td>9998</td>\n",
       "      <td>9998</td>\n",
       "      <td>0</td>\n",
       "      <td>364583.125000</td>\n",
       "      <td>64.970863</td>\n",
       "    </tr>\n",
       "    <tr>\n",
       "      <th>90633</th>\n",
       "      <td>9998</td>\n",
       "      <td>9998</td>\n",
       "      <td>0</td>\n",
       "      <td>365637.500000</td>\n",
       "      <td>228.725906</td>\n",
       "    </tr>\n",
       "    <tr>\n",
       "      <th>90634</th>\n",
       "      <td>9998</td>\n",
       "      <td>9998</td>\n",
       "      <td>0</td>\n",
       "      <td>366637.500000</td>\n",
       "      <td>615.453186</td>\n",
       "    </tr>\n",
       "    <tr>\n",
       "      <th>90635</th>\n",
       "      <td>9998</td>\n",
       "      <td>9998</td>\n",
       "      <td>0</td>\n",
       "      <td>367637.500000</td>\n",
       "      <td>1112.735107</td>\n",
       "    </tr>\n",
       "    <tr>\n",
       "      <th>90636</th>\n",
       "      <td>9998</td>\n",
       "      <td>9998</td>\n",
       "      <td>0</td>\n",
       "      <td>368637.500000</td>\n",
       "      <td>1595.542114</td>\n",
       "    </tr>\n",
       "    <tr>\n",
       "      <th>90637</th>\n",
       "      <td>9998</td>\n",
       "      <td>9998</td>\n",
       "      <td>0</td>\n",
       "      <td>369637.500000</td>\n",
       "      <td>1481.551270</td>\n",
       "    </tr>\n",
       "    <tr>\n",
       "      <th>90638</th>\n",
       "      <td>9998</td>\n",
       "      <td>9998</td>\n",
       "      <td>0</td>\n",
       "      <td>370637.500000</td>\n",
       "      <td>943.956726</td>\n",
       "    </tr>\n",
       "    <tr>\n",
       "      <th>90639</th>\n",
       "      <td>9998</td>\n",
       "      <td>9998</td>\n",
       "      <td>0</td>\n",
       "      <td>371637.500000</td>\n",
       "      <td>484.464844</td>\n",
       "    </tr>\n",
       "    <tr>\n",
       "      <th>90640</th>\n",
       "      <td>9998</td>\n",
       "      <td>9998</td>\n",
       "      <td>0</td>\n",
       "      <td>372637.500000</td>\n",
       "      <td>165.020187</td>\n",
       "    </tr>\n",
       "    <tr>\n",
       "      <th>90641</th>\n",
       "      <td>9998</td>\n",
       "      <td>9998</td>\n",
       "      <td>0</td>\n",
       "      <td>373506.812500</td>\n",
       "      <td>31.763327</td>\n",
       "    </tr>\n",
       "  </tbody>\n",
       "</table>\n",
       "<p>90642 rows × 5 columns</p>\n",
       "</div>"
      ],
      "text/plain": [
       "       event  evtDaq  peak           time          ene\n",
       "0          0       0     0  619586.250000    73.247719\n",
       "1          0       0     0  620637.500000   146.347244\n",
       "2          0       0     0  621637.500000   323.282196\n",
       "3          0       0     0  622637.500000   625.912231\n",
       "4          0       0     0  623637.500000   986.156494\n",
       "5          0       0     0  624637.500000  1201.956421\n",
       "6          0       0     0  625637.500000  1024.452881\n",
       "7          0       0     0  626637.500000   820.801147\n",
       "8          0       0     0  627637.500000   534.381592\n",
       "9          0       0     0  628637.500000   319.071411\n",
       "10         0       0     0  629637.500000   128.871811\n",
       "11         0       0     0  630513.812500    44.897781\n",
       "12         1       1     0  515877.500000    73.314644\n",
       "13         1       1     0  516937.500000   199.431076\n",
       "14         1       1     0  517937.500000   456.179993\n",
       "15         1       1     0  518937.500000   852.198303\n",
       "16         1       1     0  519937.500000  1207.032227\n",
       "17         1       1     0  520937.500000  1393.123413\n",
       "18         1       1     0  521937.500000  1135.875122\n",
       "19         1       1     0  522937.500000   844.631592\n",
       "20         1       1     0  523937.500000   420.065002\n",
       "21         1       1     0  524937.500000   195.276108\n",
       "22         1       1     0  526003.125000    72.792305\n",
       "23         2       2     0  384020.000000   110.024155\n",
       "24         2       2     0  385037.500000   350.303925\n",
       "25         2       2     0  386037.500000   793.143494\n",
       "26         2       2     0  387037.500000  1308.541992\n",
       "27         2       2     0  388037.500000  1407.468994\n",
       "28         2       2     0  389037.500000  1199.448853\n",
       "29         2       2     0  390037.500000   746.993225\n",
       "...      ...     ...   ...            ...          ...\n",
       "90612   9995    9995     0  228012.500000  1189.951782\n",
       "90613   9995    9995     0  229012.500000   345.959351\n",
       "90614   9995    9995     0  229801.468750    51.666897\n",
       "90615   9996    9996     0  216626.875000   146.713715\n",
       "90616   9996    9996     0  217637.500000   703.315552\n",
       "90617   9996    9996     0  218637.500000  1517.154663\n",
       "90618   9996    9996     0  219637.500000  1967.640625\n",
       "90619   9996    9996     0  220637.500000  1281.433228\n",
       "90620   9996    9996     0  221637.500000   344.220093\n",
       "90621   9996    9996     0  222373.609375    31.198931\n",
       "90622   9997    9997     0  416165.000000   100.214104\n",
       "90623   9997    9997     0  417187.500000   232.884094\n",
       "90624   9997    9997     0  418187.500000   698.454102\n",
       "90625   9997    9997     0  419187.500000  1156.093994\n",
       "90626   9997    9997     0  420187.500000  1554.464478\n",
       "90627   9997    9997     0  421187.500000  1429.837402\n",
       "90628   9997    9997     0  422187.500000   966.789856\n",
       "90629   9997    9997     0  423187.500000   528.738892\n",
       "90630   9997    9997     0  424187.500000   175.364822\n",
       "90631   9997    9997     0  425160.843750    48.034355\n",
       "90632   9998    9998     0  364583.125000    64.970863\n",
       "90633   9998    9998     0  365637.500000   228.725906\n",
       "90634   9998    9998     0  366637.500000   615.453186\n",
       "90635   9998    9998     0  367637.500000  1112.735107\n",
       "90636   9998    9998     0  368637.500000  1595.542114\n",
       "90637   9998    9998     0  369637.500000  1481.551270\n",
       "90638   9998    9998     0  370637.500000   943.956726\n",
       "90639   9998    9998     0  371637.500000   484.464844\n",
       "90640   9998    9998     0  372637.500000   165.020187\n",
       "90641   9998    9998     0  373506.812500    31.763327\n",
       "\n",
       "[90642 rows x 5 columns]"
      ]
     },
     "execution_count": 17,
     "metadata": {},
     "output_type": "execute_result"
    }
   ],
   "source": [
    "mydf = pf.read_pmaps(PMAP_file)\n",
    "mydf[1]"
   ]
  },
  {
   "cell_type": "code",
   "execution_count": 18,
   "metadata": {
    "collapsed": false
   },
   "outputs": [],
   "source": [
    "S2 = pf.s12df_to_s12l(mydf[1])"
   ]
  },
  {
   "cell_type": "code",
   "execution_count": 19,
   "metadata": {
    "collapsed": false
   },
   "outputs": [],
   "source": [
    "#S2"
   ]
  },
  {
   "cell_type": "code",
   "execution_count": 24,
   "metadata": {
    "collapsed": false
   },
   "outputs": [],
   "source": [
    "def my_sipm_s2_dict(SIPM, S2d, thr=5 * units.pes):\n",
    "    \"\"\"Given a vector with SIPMs (energies above threshold), and a\n",
    "    dictionary of S2s, S2d, returns a dictionary of SiPMs-S2.  Each\n",
    "    index of the dictionary correspond to one S2 and is a list of np\n",
    "    arrays. Each element of the list is the S2 window in the SiPM (if\n",
    "    not zero)\n",
    "    \"\"\"\n",
    "    return {i: sipm_s2(SIPM, S2, thr=thr) for i, S2 in S2d.items()}"
   ]
  },
  {
   "cell_type": "code",
   "execution_count": 25,
   "metadata": {
    "collapsed": true
   },
   "outputs": [],
   "source": [
    "def sipm_s2(dSIPM, S2, thr=5*units.pes):\n",
    "    \"\"\"Given a vector with SIPMs (energies above threshold), return a list\n",
    "    of np arrays. Each element of the list is the S2 window in the\n",
    "    SiPM (if not zero).\n",
    "    \"\"\"\n",
    "    #import pdb; pdb.set_trace()\n",
    "\n",
    "    i0, i1 = index_from_s2(S2)\n",
    "    dim = (i1 - i0)\n",
    "    SIPML = []\n",
    "    for i in dSIPM.keys():\n",
    "        sipm = dSIPM[i][1]\n",
    "        psum = np.sum(sipm[i0:i1])\n",
    "        if psum > thr:\n",
    "            e = np.zeros(dim, dtype=np.double)\n",
    "            e[:] = sipm[i0:i1]\n",
    "            SIPML.append([dSIPM[i][0], e])\n",
    "    return SIPML"
   ]
  },
  {
   "cell_type": "code",
   "execution_count": 26,
   "metadata": {
    "collapsed": true
   },
   "outputs": [],
   "source": [
    "def index_from_s2(S2):\n",
    "    \"\"\"Return the indexes defining the vector.\"\"\"\n",
    "    T = S2[0] // units.mus\n",
    "    return int(T[0]), int(T[-1]) + 1\n"
   ]
  },
  {
   "cell_type": "code",
   "execution_count": 23,
   "metadata": {
    "collapsed": false
   },
   "outputs": [
    {
     "ename": "TypeError",
     "evalue": "unsupported operand type(s) for //: 'list' and 'float'",
     "output_type": "error",
     "traceback": [
      "\u001b[0;31m---------------------------------------------------------------------------\u001b[0m",
      "\u001b[0;31mTypeError\u001b[0m                                 Traceback (most recent call last)",
      "\u001b[0;32m<ipython-input-23-14e6c5b4702c>\u001b[0m in \u001b[0;36m<module>\u001b[0;34m()\u001b[0m\n\u001b[0;32m----> 1\u001b[0;31m \u001b[0mmy_sipm_s2_dict\u001b[0m\u001b[0;34m(\u001b[0m\u001b[0msipm_l\u001b[0m\u001b[0;34m,\u001b[0m\u001b[0mS2\u001b[0m\u001b[0;34m)\u001b[0m\u001b[0;34m\u001b[0m\u001b[0m\n\u001b[0m",
      "\u001b[0;32m<ipython-input-20-fb9f7c469fd3>\u001b[0m in \u001b[0;36mmy_sipm_s2_dict\u001b[0;34m(SIPM, S2d, thr)\u001b[0m\n\u001b[1;32m      6\u001b[0m     not zero)\n\u001b[1;32m      7\u001b[0m     \"\"\"\n\u001b[0;32m----> 8\u001b[0;31m     \u001b[0;32mreturn\u001b[0m \u001b[0;34m{\u001b[0m\u001b[0mi\u001b[0m\u001b[0;34m:\u001b[0m \u001b[0msipm_s2\u001b[0m\u001b[0;34m(\u001b[0m\u001b[0mSIPM\u001b[0m\u001b[0;34m,\u001b[0m \u001b[0mS2\u001b[0m\u001b[0;34m,\u001b[0m \u001b[0mthr\u001b[0m\u001b[0;34m=\u001b[0m\u001b[0mthr\u001b[0m\u001b[0;34m)\u001b[0m \u001b[0;32mfor\u001b[0m \u001b[0mi\u001b[0m\u001b[0;34m,\u001b[0m \u001b[0mS2\u001b[0m \u001b[0;32min\u001b[0m \u001b[0mS2d\u001b[0m\u001b[0;34m.\u001b[0m\u001b[0mitems\u001b[0m\u001b[0;34m(\u001b[0m\u001b[0;34m)\u001b[0m\u001b[0;34m}\u001b[0m\u001b[0;34m\u001b[0m\u001b[0m\n\u001b[0m",
      "\u001b[0;32m<ipython-input-20-fb9f7c469fd3>\u001b[0m in \u001b[0;36m<dictcomp>\u001b[0;34m(.0)\u001b[0m\n\u001b[1;32m      6\u001b[0m     not zero)\n\u001b[1;32m      7\u001b[0m     \"\"\"\n\u001b[0;32m----> 8\u001b[0;31m     \u001b[0;32mreturn\u001b[0m \u001b[0;34m{\u001b[0m\u001b[0mi\u001b[0m\u001b[0;34m:\u001b[0m \u001b[0msipm_s2\u001b[0m\u001b[0;34m(\u001b[0m\u001b[0mSIPM\u001b[0m\u001b[0;34m,\u001b[0m \u001b[0mS2\u001b[0m\u001b[0;34m,\u001b[0m \u001b[0mthr\u001b[0m\u001b[0;34m=\u001b[0m\u001b[0mthr\u001b[0m\u001b[0;34m)\u001b[0m \u001b[0;32mfor\u001b[0m \u001b[0mi\u001b[0m\u001b[0;34m,\u001b[0m \u001b[0mS2\u001b[0m \u001b[0;32min\u001b[0m \u001b[0mS2d\u001b[0m\u001b[0;34m.\u001b[0m\u001b[0mitems\u001b[0m\u001b[0;34m(\u001b[0m\u001b[0;34m)\u001b[0m\u001b[0;34m}\u001b[0m\u001b[0;34m\u001b[0m\u001b[0m\n\u001b[0m",
      "\u001b[0;32m<ipython-input-21-b20f6a1d1b4d>\u001b[0m in \u001b[0;36msipm_s2\u001b[0;34m(dSIPM, S2, thr)\u001b[0m\n\u001b[1;32m      6\u001b[0m     \u001b[0;31m#import pdb; pdb.set_trace()\u001b[0m\u001b[0;34m\u001b[0m\u001b[0;34m\u001b[0m\u001b[0m\n\u001b[1;32m      7\u001b[0m \u001b[0;34m\u001b[0m\u001b[0m\n\u001b[0;32m----> 8\u001b[0;31m     \u001b[0mi0\u001b[0m\u001b[0;34m,\u001b[0m \u001b[0mi1\u001b[0m \u001b[0;34m=\u001b[0m \u001b[0mindex_from_s2\u001b[0m\u001b[0;34m(\u001b[0m\u001b[0mS2\u001b[0m\u001b[0;34m)\u001b[0m\u001b[0;34m\u001b[0m\u001b[0m\n\u001b[0m\u001b[1;32m      9\u001b[0m     \u001b[0mdim\u001b[0m \u001b[0;34m=\u001b[0m \u001b[0;34m(\u001b[0m\u001b[0mi1\u001b[0m \u001b[0;34m-\u001b[0m \u001b[0mi0\u001b[0m\u001b[0;34m)\u001b[0m\u001b[0;34m\u001b[0m\u001b[0m\n\u001b[1;32m     10\u001b[0m     \u001b[0mSIPML\u001b[0m \u001b[0;34m=\u001b[0m \u001b[0;34m[\u001b[0m\u001b[0;34m]\u001b[0m\u001b[0;34m\u001b[0m\u001b[0m\n",
      "\u001b[0;32m<ipython-input-22-d98eb4567aca>\u001b[0m in \u001b[0;36mindex_from_s2\u001b[0;34m(S2)\u001b[0m\n\u001b[1;32m      1\u001b[0m \u001b[0;32mdef\u001b[0m \u001b[0mindex_from_s2\u001b[0m\u001b[0;34m(\u001b[0m\u001b[0mS2\u001b[0m\u001b[0;34m)\u001b[0m\u001b[0;34m:\u001b[0m\u001b[0;34m\u001b[0m\u001b[0m\n\u001b[1;32m      2\u001b[0m     \u001b[0;34m\"\"\"Return the indexes defining the vector.\"\"\"\u001b[0m\u001b[0;34m\u001b[0m\u001b[0m\n\u001b[0;32m----> 3\u001b[0;31m     \u001b[0mT\u001b[0m \u001b[0;34m=\u001b[0m \u001b[0mS2\u001b[0m\u001b[0;34m[\u001b[0m\u001b[0;36m0\u001b[0m\u001b[0;34m]\u001b[0m \u001b[0;34m//\u001b[0m \u001b[0munits\u001b[0m\u001b[0;34m.\u001b[0m\u001b[0mmus\u001b[0m\u001b[0;34m\u001b[0m\u001b[0m\n\u001b[0m\u001b[1;32m      4\u001b[0m     \u001b[0;32mreturn\u001b[0m \u001b[0mint\u001b[0m\u001b[0;34m(\u001b[0m\u001b[0mT\u001b[0m\u001b[0;34m[\u001b[0m\u001b[0;36m0\u001b[0m\u001b[0;34m]\u001b[0m\u001b[0;34m)\u001b[0m\u001b[0;34m,\u001b[0m \u001b[0mint\u001b[0m\u001b[0;34m(\u001b[0m\u001b[0mT\u001b[0m\u001b[0;34m[\u001b[0m\u001b[0;34m-\u001b[0m\u001b[0;36m1\u001b[0m\u001b[0;34m]\u001b[0m\u001b[0;34m)\u001b[0m \u001b[0;34m+\u001b[0m \u001b[0;36m1\u001b[0m\u001b[0;34m\u001b[0m\u001b[0m\n",
      "\u001b[0;31mTypeError\u001b[0m: unsupported operand type(s) for //: 'list' and 'float'"
     ]
    }
   ],
   "source": [
    "my_sipm_s2_dict(sipm_l,S2)"
   ]
  },
  {
   "cell_type": "code",
   "execution_count": null,
   "metadata": {
    "collapsed": true
   },
   "outputs": [],
   "source": []
  },
  {
   "cell_type": "code",
   "execution_count": null,
   "metadata": {
    "collapsed": true
   },
   "outputs": [],
   "source": []
  },
  {
   "cell_type": "code",
   "execution_count": null,
   "metadata": {
    "collapsed": true
   },
   "outputs": [],
   "source": []
  },
  {
   "cell_type": "markdown",
   "metadata": {},
   "source": [
    "## Panda table"
   ]
  },
  {
   "cell_type": "markdown",
   "metadata": {},
   "source": [
    "#### Convert structured or record ndarray to DataFrame:"
   ]
  },
  {
   "cell_type": "code",
   "execution_count": null,
   "metadata": {
    "collapsed": false
   },
   "outputs": [],
   "source": [
    "S2Sidf = pd.DataFrame.from_records(S2Si_.read())"
   ]
  },
  {
   "cell_type": "code",
   "execution_count": null,
   "metadata": {
    "collapsed": false,
    "scrolled": false
   },
   "outputs": [],
   "source": [
    "#S2Sidf"
   ]
  },
  {
   "cell_type": "code",
   "execution_count": null,
   "metadata": {
    "collapsed": false
   },
   "outputs": [],
   "source": [
    "S2Sidf[:]"
   ]
  },
  {
   "cell_type": "code",
   "execution_count": null,
   "metadata": {
    "collapsed": false
   },
   "outputs": [],
   "source": [
    "t.root.PMAPS\n"
   ]
  },
  {
   "cell_type": "code",
   "execution_count": null,
   "metadata": {
    "collapsed": false
   },
   "outputs": [],
   "source": [
    "t.root.PMAPS.S2Si"
   ]
  },
  {
   "cell_type": "code",
   "execution_count": null,
   "metadata": {
    "collapsed": false
   },
   "outputs": [],
   "source": [
    "#t.root.PMAPS.S2Si[0:40]"
   ]
  },
  {
   "cell_type": "code",
   "execution_count": null,
   "metadata": {
    "collapsed": false
   },
   "outputs": [],
   "source": [
    "t.root.PMAPS.S1[:]"
   ]
  },
  {
   "cell_type": "code",
   "execution_count": null,
   "metadata": {
    "collapsed": false
   },
   "outputs": [],
   "source": [
    "t.root.PMAPS.S2[:]"
   ]
  },
  {
   "cell_type": "code",
   "execution_count": null,
   "metadata": {
    "collapsed": true
   },
   "outputs": [],
   "source": [
    "#pf.S12df_to_dict_select_peak()---------> on going\n",
    "#sipm_s2_dict"
   ]
  },
  {
   "cell_type": "code",
   "execution_count": null,
   "metadata": {
    "collapsed": false
   },
   "outputs": [],
   "source": [
    "#pf.plot_s2si_map(S2Si_)"
   ]
  },
  {
   "cell_type": "code",
   "execution_count": null,
   "metadata": {
    "collapsed": false
   },
   "outputs": [],
   "source": []
  },
  {
   "cell_type": "code",
   "execution_count": null,
   "metadata": {
    "collapsed": false
   },
   "outputs": [],
   "source": []
  },
  {
   "cell_type": "code",
   "execution_count": null,
   "metadata": {
    "collapsed": false
   },
   "outputs": [],
   "source": []
  },
  {
   "cell_type": "code",
   "execution_count": null,
   "metadata": {
    "collapsed": false
   },
   "outputs": [],
   "source": [
    "t.root.PMAPS.S2Si[:]"
   ]
  },
  {
   "cell_type": "code",
   "execution_count": null,
   "metadata": {
    "collapsed": false,
    "scrolled": false
   },
   "outputs": [],
   "source": [
    "t.root.PMAPS.S2[0:1]"
   ]
  },
  {
   "cell_type": "code",
   "execution_count": null,
   "metadata": {
    "collapsed": false
   },
   "outputs": [],
   "source": [
    "t.root.PMAPS.S1[0:1]"
   ]
  },
  {
   "cell_type": "markdown",
   "metadata": {},
   "source": [
    "# SiPMs inspection"
   ]
  },
  {
   "cell_type": "code",
   "execution_count": null,
   "metadata": {
    "collapsed": false
   },
   "outputs": [],
   "source": [
    "t.root.PMAPS.S2Si[0]"
   ]
  },
  {
   "cell_type": "code",
   "execution_count": null,
   "metadata": {
    "collapsed": false
   },
   "outputs": [],
   "source": [
    "datasetS2Si=f.root.PMAPS.S2Si\n",
    "datasetS2=f.root.PMAPS.S2"
   ]
  },
  {
   "cell_type": "code",
   "execution_count": null,
   "metadata": {
    "collapsed": false
   },
   "outputs": [],
   "source": [
    "arr1ev=datasetS2Si[:]"
   ]
  },
  {
   "cell_type": "code",
   "execution_count": null,
   "metadata": {
    "collapsed": false
   },
   "outputs": [],
   "source": [
    "print(arr1ev)"
   ]
  },
  {
   "cell_type": "code",
   "execution_count": null,
   "metadata": {
    "collapsed": false
   },
   "outputs": [],
   "source": [
    "print(arr1ev[6])"
   ]
  },
  {
   "cell_type": "code",
   "execution_count": null,
   "metadata": {
    "collapsed": false
   },
   "outputs": [],
   "source": [
    "y=datasetS2Si.col('ene')\n",
    "print(y)\n",
    "len(y)"
   ]
  },
  {
   "cell_type": "markdown",
   "metadata": {},
   "source": [
    "### Rango del narray"
   ]
  },
  {
   "cell_type": "code",
   "execution_count": null,
   "metadata": {
    "collapsed": false
   },
   "outputs": [],
   "source": [
    "range(len(y))"
   ]
  },
  {
   "cell_type": "code",
   "execution_count": null,
   "metadata": {
    "collapsed": false
   },
   "outputs": [],
   "source": [
    "x=datasetS2Si.col('event') \n",
    "print(x)"
   ]
  },
  {
   "cell_type": "code",
   "execution_count": null,
   "metadata": {
    "collapsed": false
   },
   "outputs": [],
   "source": [
    "x1=arr1ev[6]\n",
    "print(x1)"
   ]
  },
  {
   "cell_type": "code",
   "execution_count": null,
   "metadata": {
    "collapsed": false
   },
   "outputs": [],
   "source": [
    "plt.hist(y, 10, histtype=\"bar\", alpha=0.75)"
   ]
  },
  {
   "cell_type": "code",
   "execution_count": null,
   "metadata": {
    "collapsed": false
   },
   "outputs": [],
   "source": [
    "mpl.histo(y,10,\"\",\"\",\"\")"
   ]
  },
  {
   "cell_type": "code",
   "execution_count": null,
   "metadata": {
    "collapsed": false
   },
   "outputs": [],
   "source": [
    "#f.close()\n",
    "#f"
   ]
  },
  {
   "cell_type": "code",
   "execution_count": null,
   "metadata": {
    "collapsed": false
   },
   "outputs": [],
   "source": [
    "#f=pf.read_pmaps(os.environ['IC_DATA'],'/pmaps_dst_NEXT_v0_08_06_Kr_ACTIVE_86_0_7bar_MCRD_10000.root.h5')"
   ]
  },
  {
   "cell_type": "code",
   "execution_count": null,
   "metadata": {
    "collapsed": false
   },
   "outputs": [],
   "source": [
    "datasetS2Si[0:20]"
   ]
  },
  {
   "cell_type": "code",
   "execution_count": null,
   "metadata": {
    "collapsed": false
   },
   "outputs": [],
   "source": [
    "pf.sipm_s2(datasetS2Si[0],datasetS2[0])"
   ]
  },
  {
   "cell_type": "code",
   "execution_count": null,
   "metadata": {
    "collapsed": false
   },
   "outputs": [],
   "source": [
    "datasetS2Si[0]"
   ]
  },
  {
   "cell_type": "code",
   "execution_count": null,
   "metadata": {
    "collapsed": true
   },
   "outputs": [],
   "source": []
  },
  {
   "cell_type": "code",
   "execution_count": null,
   "metadata": {
    "collapsed": true
   },
   "outputs": [],
   "source": []
  },
  {
   "cell_type": "code",
   "execution_count": null,
   "metadata": {
    "collapsed": true
   },
   "outputs": [],
   "source": []
  },
  {
   "cell_type": "markdown",
   "metadata": {},
   "source": [
    "# PMTs inspection\n",
    "## proves"
   ]
  },
  {
   "cell_type": "code",
   "execution_count": null,
   "metadata": {
    "collapsed": false
   },
   "outputs": [],
   "source": [
    "datasetS2=f.root.PMAPS.S2"
   ]
  },
  {
   "cell_type": "code",
   "execution_count": null,
   "metadata": {
    "collapsed": false
   },
   "outputs": [],
   "source": [
    "datasetS2"
   ]
  },
  {
   "cell_type": "code",
   "execution_count": null,
   "metadata": {
    "collapsed": false
   },
   "outputs": [],
   "source": [
    "x=datasetS2.col('event')"
   ]
  },
  {
   "cell_type": "code",
   "execution_count": null,
   "metadata": {
    "collapsed": false
   },
   "outputs": [],
   "source": [
    "len(x)"
   ]
  },
  {
   "cell_type": "code",
   "execution_count": null,
   "metadata": {
    "collapsed": false
   },
   "outputs": [],
   "source": [
    "x=datasetS2[0:20]\n",
    "x"
   ]
  },
  {
   "cell_type": "code",
   "execution_count": null,
   "metadata": {
    "collapsed": true
   },
   "outputs": [],
   "source": []
  },
  {
   "cell_type": "code",
   "execution_count": null,
   "metadata": {
    "collapsed": true
   },
   "outputs": [],
   "source": []
  },
  {
   "cell_type": "code",
   "execution_count": null,
   "metadata": {
    "collapsed": true
   },
   "outputs": [],
   "source": []
  }
 ],
 "metadata": {
  "kernelspec": {
   "display_name": "Python 3",
   "language": "python",
   "name": "python3"
  },
  "language_info": {
   "codemirror_mode": {
    "name": "ipython",
    "version": 3
   },
   "file_extension": ".py",
   "mimetype": "text/x-python",
   "name": "python",
   "nbconvert_exporter": "python",
   "pygments_lexer": "ipython3",
   "version": "3.5.2"
  }
 },
 "nbformat": 4,
 "nbformat_minor": 2
}

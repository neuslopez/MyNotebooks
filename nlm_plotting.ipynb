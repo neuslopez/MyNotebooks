{
 "cells": [
  {
   "cell_type": "markdown",
   "metadata": {},
   "source": [
    "### my plotting"
   ]
  },
  {
   "cell_type": "code",
   "execution_count": 1,
   "metadata": {
    "collapsed": true
   },
   "outputs": [],
   "source": [
    "def multh(x, nbins, xmin, xmax, color=\"red\", title=\"\", xlabel=\"\", ylabel=\"Entries\"):\n",
    "    mycolor = color\n",
    "#    plt.hist(x, nbins, color = mycolor, histtype=\"step\", alpha=0.75)\n",
    "    #plt.figure(figsize=(7, 5), dpi=100) \n",
    "    plt.hist(x, nbins, color = mycolor, histtype=\"bar\", alpha=0.75)\n",
    "    plt.title(title)\n",
    "    plt.xlabel(xlabel)\n",
    "    plt.ylabel(ylabel)\n",
    "    #axes = plt.axes()\n",
    "    #axes.xaxis.set_label_coords(0.95, -0.10)\n",
    "    #axes.yaxis.set_label_coords(-0.1, 0.95)\n",
    "    return plt\n",
    "\n",
    "def h1(x, nbins, xmin, xmax, color=\"red\", title=\"\", xlabel=\"\", ylabel=\"Entries\",\n",
    "       legend=\"hi\"):\n",
    "    mycolor = color\n",
    "##    plt.hist(x, nbins, color = mycolor, histtype=\"step\", alpha=0.75)\n",
    "    plt.figure(figsize=(7, 5), dpi=100) \n",
    "    plt.hist(x, nbins, color = mycolor, histtype=\"bar\", alpha=0.75)\n",
    "    plt.title(title)\n",
    "    plt.xlabel(xlabel)\n",
    "    plt.ylabel(ylabel)\n",
    "\n",
    "    majorLocator = MultipleLocator(2)  # subdivisió entre numeros visibles\n",
    "    majorFormatter = FormatStrFormatter('%d')\n",
    "    minorLocator = MultipleLocator(0.5)  # subdivisio entre les ticks petites\n",
    "\n",
    "    ax = plt.axes()\n",
    "    ax.xaxis.set_major_locator(majorLocator)\n",
    "    ax.xaxis.set_major_formatter(majorFormatter)\n",
    "\n",
    "    # for the minor ticks, use no labels; default NullFormatter\n",
    "    ax.xaxis.set_minor_locator(minorLocator)\n",
    "    ax.tick_params(which='both', direction='in')\n",
    "    #plt.rc('font', weight='bold')\n",
    "    #ax.xaxis.set_minor_locator(AutoMinorLocator())\n",
    "    ax.yaxis.set_minor_locator(AutoMinorLocator())\n",
    "    ax.xaxis.set_label_coords(0.9, -0.10)\n",
    "    ax.yaxis.set_label_coords(-0.1, 0.95)\n",
    "\n",
    "    # add ticks in opposite axis\n",
    "    ax.yaxis.set_ticks_position('both')\n",
    "    ax.xaxis.set_ticks_position('both')\n",
    "    \n",
    "   # plt.legend(legend)\n",
    "    return plt\n"
   ]
  }
 ],
 "metadata": {
  "kernelspec": {
   "display_name": "Python 3",
   "language": "python",
   "name": "python3"
  },
  "language_info": {
   "codemirror_mode": {
    "name": "ipython",
    "version": 3
   },
   "file_extension": ".py",
   "mimetype": "text/x-python",
   "name": "python",
   "nbconvert_exporter": "python",
   "pygments_lexer": "ipython3",
   "version": "3.5.2"
  }
 },
 "nbformat": 4,
 "nbformat_minor": 2
}
